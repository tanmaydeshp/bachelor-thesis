{
 "cells": [
  {
   "cell_type": "code",
   "execution_count": null,
   "id": "2839e1dc",
   "metadata": {},
   "outputs": [],
   "source": [
    "#Find the threshold for the percentile\n",
    "# import filtering  \n",
    "# df = filtering.moses_to_df(\"data/en-si/Ubuntu.en-si.en\", \"data/en-si/Ubuntu.en-si.si\", \"english\", \"sinhala\")\n",
    "# e1 = filtering.to_multilingual_embedding(\"english\", df[\"english\"], \"labse\")\n",
    "# e2 = filtering.to_multilingual_embedding(\"sinhala\", df[\"sinhala\"], \"labse\")\n",
    "# ss = filtering.find_similarity_score(e1, e2)"
   ]
  },
  {
   "cell_type": "code",
   "execution_count": 11,
   "id": "3162a60d",
   "metadata": {},
   "outputs": [],
   "source": [
    "import bucc_style_dataset as bsd"
   ]
  },
  {
   "cell_type": "code",
   "execution_count": 12,
   "id": "e872dc98",
   "metadata": {},
   "outputs": [],
   "source": [
    "si_mono_lines = []\n",
    "eng_mono_lines = []\n",
    "with open(\"data/en-si/sin_wikipedia_2021_30K-sentences.txt\", \"r\", encoding=\"utf-8\") as f:\n",
    "    for line in f:\n",
    "        line = line.removesuffix(\"\\n\")\n",
    "        split  =line.split(\"\\t\")\n",
    "        si_mono_lines.append(split[1])\n",
    "with open(\"data/en-si/eng_news_2024_30K-sentences.txt\", \"r\", encoding=\"utf-8\") as f:\n",
    "    for line in f: \n",
    "        line = line.removesuffix(\"\\n\")\n",
    "        split  =line.split(\"\\t\")\n",
    "        eng_mono_lines.append(split[1])\n"
   ]
  },
  {
   "cell_type": "code",
   "execution_count": 13,
   "id": "96ca0a68",
   "metadata": {},
   "outputs": [],
   "source": [
    "si_par_lines = []\n",
    "eng_par_lines = []\n",
    "with open(\"data/en-si/eng_Latn.dev\", \"r\", encoding=\"utf-8\") as f:\n",
    "    for line in f:\n",
    "        line = line.removesuffix(\"\\n\")\n",
    "        eng_par_lines.append(line)\n",
    "with open(\"data/en-si/sin_Sinh.dev\", \"r\", encoding=\"utf-8\") as f:\n",
    "    for line in f: \n",
    "        line = line.removesuffix(\"\\n\")\n",
    "        si_par_lines.append(line)"
   ]
  },
  {
   "cell_type": "code",
   "execution_count": 14,
   "id": "6f653d99",
   "metadata": {},
   "outputs": [
    {
     "name": "stdout",
     "output_type": "stream",
     "text": [
      "Dataset length: 30000.\n",
      "7500 22500\n",
      "Dataset length: 30000.\n",
      "7500 22500\n",
      "Dataset length: 997.\n",
      "249 748\n",
      "Dataset length: 997.\n",
      "249 748\n",
      "False False False False\n",
      "7500 monolingual source sentences.\n",
      "7500 monolingual target sentences.\n",
      "Whole corpus:\n",
      "7749 monolingual source sentences.\n",
      "7749 monolingual target sentences.\n",
      "src-0000000\tChange of tune after you called him a devil last month and that he will pay for his stance on Israel. trg-0000000\tඑහිදි ඔහු විසින් මීට පෙර තිලාන් සමරවීර සමග ලකුණු 262 ක ශ්‍රි ලංකා කණ්ඩායමේ තුන්වැනි කඩුල්ල සදහා තැබු හොදම වාර්තාව ද අභිබවා ගියේ ය.එමෙන් ම ඔවුන් නවසීලන්ත කණ්ඩායමේ මාර්ටින් ක්‍රෝව් සහ ඇන්ඩෲ ජෝන්ස් තැබු ලකුණු 467 ක වාර්තාව ද තමන් සතු කර ගන්නා ලදී.\n",
      "22500 monolingual source sentences.\n",
      "22500 monolingual target sentences.\n",
      "Whole corpus:\n",
      "23248 monolingual source sentences.\n",
      "23248 monolingual target sentences.\n",
      "src-0000000\tGordon said her group’s clients have seen their monthly food allowances vanish in minutes due to theft. trg-0000000\tරජතුමාට දාව ටිකිරි බණ්ඩාර නමින් උපත ලැබූ මෙතුමාට පෘතුගීසි හමුදා සමඟ සිදු කළ බිහිසුණු සටන් වලින් පසුව \"රාජසිංහ\" යන නාමය ලැබිණි.\n"
     ]
    }
   ],
   "source": [
    "train_list, test_list = bsd.split_shuffle_create_corpus(eng_mono_lines, si_mono_lines, eng_par_lines, si_par_lines)"
   ]
  }
 ],
 "metadata": {
  "kernelspec": {
   "display_name": "thesis_wsl",
   "language": "python",
   "name": "python3"
  },
  "language_info": {
   "codemirror_mode": {
    "name": "ipython",
    "version": 3
   },
   "file_extension": ".py",
   "mimetype": "text/x-python",
   "name": "python",
   "nbconvert_exporter": "python",
   "pygments_lexer": "ipython3",
   "version": "3.9.21"
  }
 },
 "nbformat": 4,
 "nbformat_minor": 5
}
