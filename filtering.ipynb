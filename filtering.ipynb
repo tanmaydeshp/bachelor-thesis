{
 "cells": [
  {
   "cell_type": "code",
   "execution_count": null,
   "id": "fb511b17",
   "metadata": {},
   "outputs": [],
   "source": [
    "#Convert Moses format files into a pandas DataFrame\n",
    "def moses_to_df(file1, file2, lang1, lang2):\n",
    "    lang1_lines = []\n",
    "    lang2_lines = []\n",
    "    with open(file1, \"r\", encoding=\"utf-8\") as f1:\n",
    "        for line in f1: \n",
    "            line = line.removesuffix(\"\\n\")\n",
    "            lang1_lines.append(line)\n",
    "    with open(file2, \"r\", encoding=\"utf-8\") as f2:\n",
    "        for line in f2: \n",
    "            line = line.removesuffix(\"\\n\")\n",
    "            lang2_lines.append(line)\n",
    "    import pandas as pd\n",
    "    df = pd.DataFrame({lang1: lang1_lines, lang2: lang2_lines})\n",
    "    return df\n",
    "\n",
    "#Convert a list of sentences into their multilingual embeddings according to the given model\n",
    "def to_multilingual_embedding(language, sentences, model):\n",
    "    if model.lower() == \"labse\":\n",
    "        from sentence_transformers import SentenceTransformer\n",
    "        encoder = SentenceTransformer('sentence-transformers/LaBSE')\n",
    "        embedding = encoder.encode(sentences)\n",
    "    if model.lower() == \"laser\":\n",
    "        import torch \n",
    "        import argparse\n",
    "        torch.serialization.add_safe_globals([argparse.Namespace])\n",
    "        from laser_encoders import LaserEncoderPipeline\n",
    "        encoder = LaserEncoderPipeline(lang=language)\n",
    "        embedding = encoder.encode_sentences(sentences)\n",
    "    return embedding\n",
    "\n",
    "#Find similarity scores for sentence pairs using cosine similarity\n",
    "def find_similarity_score(embeddings1, embeddings2): \n",
    "    from sklearn.metrics.pairwise import cosine_similarity\n",
    "    similarities = cosine_similarity(embeddings1, embeddings2)\n",
    "    similarity_scores = [float(vector.sum()) for vector in similarities]\n",
    "    return similarity_scores\n",
    "\n",
    "#Given a pandas DataFrame, filter best x percent of sentence pairs and store the results in a .tsv file\n",
    "def filter_top_percentile(df, percentile, tsv_path): \n",
    "    df.sort_values(\"Similarity score\", ascending=False, inplace=True)\n",
    "    df[df['Similarity score'] >= df[\"Similarity score\"].quantile(percentile)].to_csv(sep=\"\\t\", path_or_buf=tsv_path)\n"
   ]
  },
  {
   "cell_type": "markdown",
   "id": "b2c3f19b",
   "metadata": {},
   "source": [
    "# Sinhala-English Filtering"
   ]
  },
  {
   "cell_type": "code",
   "execution_count": 2,
   "id": "c9d06696",
   "metadata": {},
   "outputs": [],
   "source": [
    "# import os\n",
    "# english_files=[]\n",
    "# sinhala_files = []\n",
    "# for filename in os.listdir(\"data/en-si\"):\n",
    "#     if filename.endswith(\".en\"):\n",
    "#         english_files.append(filename)\n",
    "#     if filename.endswith(\".si\"): \n",
    "#         sinhala_files.append(filename)\n",
    "# with open(\"data/en-si/sentences.en\", \"w\", encoding=\"utf-8\") as f:\n",
    "#     for file in english_files:\n",
    "#         for line in open(f\"data/en-si/{file}\", \"r\", encoding=\"utf-8\"):\n",
    "#             f.write(line)\n",
    "# with open(\"data/en-si/sentences.si\", \"w\", encoding=\"utf-8\") as f:\n",
    "#     for file in sinhala_files:\n",
    "#         for line in open(f\"data/en-si/{file}\", \"r\", encoding=\"utf-8\"):\n",
    "#             f.write(line)\n",
    " "
   ]
  },
  {
   "cell_type": "code",
   "execution_count": 12,
   "id": "37a26973",
   "metadata": {},
   "outputs": [
    {
     "name": "stdout",
     "output_type": "stream",
     "text": [
      "2025-04-29 09:00:38,541 | INFO | sentence_transformers.SentenceTransformer | Use pytorch device_name: cpu\n",
      "2025-04-29 09:00:38,542 | INFO | sentence_transformers.SentenceTransformer | Load pretrained SentenceTransformer: sentence-transformers/LaBSE\n"
     ]
    },
    {
     "name": "stderr",
     "output_type": "stream",
     "text": [
      "Batches: 100%|██████████| 417/417 [02:31<00:00,  2.76it/s]\n"
     ]
    },
    {
     "name": "stdout",
     "output_type": "stream",
     "text": [
      "2025-04-29 09:03:13,215 | INFO | sentence_transformers.SentenceTransformer | Use pytorch device_name: cpu\n",
      "2025-04-29 09:03:13,217 | INFO | sentence_transformers.SentenceTransformer | Load pretrained SentenceTransformer: sentence-transformers/LaBSE\n"
     ]
    },
    {
     "name": "stderr",
     "output_type": "stream",
     "text": [
      "Batches: 100%|██████████| 417/417 [02:47<00:00,  2.49it/s]\n"
     ]
    }
   ],
   "source": [
    "df_labse = moses_to_df(\"data/en-si/GNOME.en-si.en\", \"data/en-si/GNOME.en-si.si\", \"English sentence\", \"Sinhala sentence\")\n",
    "en_embedding_labse = to_multilingual_embedding(\"english\", df_labse[\"English sentence\"], \"labse\")\n",
    "si_embedding_labse = to_multilingual_embedding(\"sinhala\", df_labse[\"Sinhala sentence\"], \"labse\")"
   ]
  },
  {
   "cell_type": "code",
   "execution_count": 13,
   "id": "78a9ba7f",
   "metadata": {},
   "outputs": [],
   "source": [
    "similiarity_scores = find_similarity_score(en_embedding_labse, si_embedding_labse)\n",
    "df_labse[\"Similarity score\"] = similiarity_scores"
   ]
  },
  {
   "cell_type": "code",
   "execution_count": null,
   "id": "ec86b8de",
   "metadata": {},
   "outputs": [],
   "source": [
    "filter_top_percentile(df_labse, 0.9, \"outputs\\\\GNOME.en-si.top10_labse.tsv\")"
   ]
  },
  {
   "cell_type": "code",
   "execution_count": 7,
   "id": "1313e0fd",
   "metadata": {},
   "outputs": [
    {
     "name": "stdout",
     "output_type": "stream",
     "text": [
      "2025-04-29 07:59:41,599 | INFO | fairseq.tasks.text_to_speech | Please install tensorboardX: pip install tensorboardX\n",
      "2025-04-29 07:59:42,547 | INFO | laser_encoders.download_models |  - laser2.spm already downloaded\n",
      "2025-04-29 07:59:42,669 | INFO | laser_encoders.download_models |  - laser2.pt already downloaded\n",
      "2025-04-29 07:59:42,669 | INFO | laser_encoders.download_models |  - laser2.spm already downloaded\n",
      "2025-04-29 07:59:42,669 | INFO | laser_encoders.download_models |  - laser2.cvocab already downloaded\n",
      "2025-04-29 08:10:16,358 | INFO | laser_encoders.download_models |  - laser2.spm already downloaded\n",
      "2025-04-29 08:10:16,535 | INFO | laser_encoders.download_models |  - laser3-sin_Sinh.v1.pt already downloaded\n",
      "2025-04-29 08:10:16,537 | INFO | laser_encoders.download_models |  - laser2.spm already downloaded\n",
      "2025-04-29 08:10:16,540 | INFO | laser_encoders.download_models |  - laser2.cvocab already downloaded\n"
     ]
    },
    {
     "name": "stderr",
     "output_type": "stream",
     "text": [
      "c:\\Users\\admin\\anaconda3\\envs\\thesis\\lib\\site-packages\\fairseq\\models\\transformer\\transformer_encoder.py:281: UserWarning: The PyTorch API of nested tensors is in prototype stage and will change in the near future. We recommend specifying layout=torch.jagged when constructing a nested tensor, as this layout receives active development, has better operator coverage, and works with torch.compile. (Triggered internally at C:\\actions-runner\\_work\\pytorch\\pytorch\\pytorch\\aten\\src\\ATen\\NestedTensorImpl.cpp:182.)\n",
      "  x = torch._nested_tensor_from_mask(\n"
     ]
    }
   ],
   "source": [
    "df_laser = moses_to_df(\"data/en-si/GNOME.en-si.en\", \"data/en-si/GNOME.en-si.si\", \"English sentence\", \"Sinhala sentence\")\n",
    "en_embedding_laser = to_multilingual_embedding(\"english\", df_laser[\"English sentence\"], \"laser\")\n",
    "si_embedding_laser = to_multilingual_embedding(\"sinhala\", df_laser[\"Sinhala sentence\"], \"laser\")"
   ]
  },
  {
   "cell_type": "code",
   "execution_count": 8,
   "id": "effb4406",
   "metadata": {},
   "outputs": [],
   "source": [
    "similiarity_scores = find_similarity_score(en_embedding_laser, si_embedding_laser)\n",
    "df_laser[\"Similarity score\"] = similiarity_scores"
   ]
  },
  {
   "cell_type": "code",
   "execution_count": null,
   "id": "9973c660",
   "metadata": {},
   "outputs": [],
   "source": [
    "filter_top_percentile(df_laser, 0.9, \"outputs\\\\GNOME.en-si.top10_laser.tsv\")"
   ]
  },
  {
   "cell_type": "code",
   "execution_count": 11,
   "id": "2a87e1b0",
   "metadata": {},
   "outputs": [
    {
     "data": {
      "text/html": [
       "<div>\n",
       "<style scoped>\n",
       "    .dataframe tbody tr th:only-of-type {\n",
       "        vertical-align: middle;\n",
       "    }\n",
       "\n",
       "    .dataframe tbody tr th {\n",
       "        vertical-align: top;\n",
       "    }\n",
       "\n",
       "    .dataframe thead th {\n",
       "        text-align: right;\n",
       "    }\n",
       "</style>\n",
       "<table border=\"1\" class=\"dataframe\">\n",
       "  <thead>\n",
       "    <tr style=\"text-align: right;\">\n",
       "      <th></th>\n",
       "      <th>English sentence</th>\n",
       "      <th>Sinhala sentence</th>\n",
       "      <th>Similarity score</th>\n",
       "    </tr>\n",
       "  </thead>\n",
       "  <tbody>\n",
       "    <tr>\n",
       "      <th>384</th>\n",
       "      <td>Shift</td>\n",
       "      <td>Shift</td>\n",
       "      <td>7700.271973</td>\n",
       "    </tr>\n",
       "    <tr>\n",
       "      <th>157</th>\n",
       "      <td>Shift</td>\n",
       "      <td>Shift</td>\n",
       "      <td>7700.271973</td>\n",
       "    </tr>\n",
       "    <tr>\n",
       "      <th>214</th>\n",
       "      <td>Shift</td>\n",
       "      <td>Shift</td>\n",
       "      <td>7700.271973</td>\n",
       "    </tr>\n",
       "    <tr>\n",
       "      <th>327</th>\n",
       "      <td>Shift</td>\n",
       "      <td>Shift</td>\n",
       "      <td>7700.271973</td>\n",
       "    </tr>\n",
       "    <tr>\n",
       "      <th>441</th>\n",
       "      <td>Shift</td>\n",
       "      <td>Shift</td>\n",
       "      <td>7700.271973</td>\n",
       "    </tr>\n",
       "    <tr>\n",
       "      <th>...</th>\n",
       "      <td>...</td>\n",
       "      <td>...</td>\n",
       "      <td>...</td>\n",
       "    </tr>\n",
       "    <tr>\n",
       "      <th>1264</th>\n",
       "      <td>Remove the seven of hearts.</td>\n",
       "      <td>හාර්ත හත</td>\n",
       "      <td>2880.132568</td>\n",
       "    </tr>\n",
       "    <tr>\n",
       "      <th>10122</th>\n",
       "      <td>These are the plugins selected by you when you...</td>\n",
       "      <td>අන්ජුටා, සුදුසු ප්ලගින සමූහයක් අතුරින් එකක් තෝ...</td>\n",
       "      <td>2872.951172</td>\n",
       "    </tr>\n",
       "    <tr>\n",
       "      <th>6268</th>\n",
       "      <td>These are the plugins selected by you when you...</td>\n",
       "      <td>අන්ජුටා, සුදුසු ප්ලගින සමූහයක් අතුරින් එකක් තෝ...</td>\n",
       "      <td>2872.951172</td>\n",
       "    </tr>\n",
       "    <tr>\n",
       "      <th>6923</th>\n",
       "      <td>These are the plugins selected by you when you...</td>\n",
       "      <td>අන්ජුටා, සුදුසු ප්ලගින සමූහයක් අතුරින් එකක් තෝ...</td>\n",
       "      <td>2872.951172</td>\n",
       "    </tr>\n",
       "    <tr>\n",
       "      <th>9469</th>\n",
       "      <td>These are the plugins selected by you when you...</td>\n",
       "      <td>අන්ජුටා, සුදුසු ප්ලගින සමූහයක් අතුරින් එකක් තෝ...</td>\n",
       "      <td>2872.951172</td>\n",
       "    </tr>\n",
       "  </tbody>\n",
       "</table>\n",
       "<p>13321 rows × 3 columns</p>\n",
       "</div>"
      ],
      "text/plain": [
       "                                        English sentence  \\\n",
       "384                                                Shift   \n",
       "157                                                Shift   \n",
       "214                                                Shift   \n",
       "327                                                Shift   \n",
       "441                                                Shift   \n",
       "...                                                  ...   \n",
       "1264                         Remove the seven of hearts.   \n",
       "10122  These are the plugins selected by you when you...   \n",
       "6268   These are the plugins selected by you when you...   \n",
       "6923   These are the plugins selected by you when you...   \n",
       "9469   These are the plugins selected by you when you...   \n",
       "\n",
       "                                        Sinhala sentence  Similarity score  \n",
       "384                                                Shift       7700.271973  \n",
       "157                                                Shift       7700.271973  \n",
       "214                                                Shift       7700.271973  \n",
       "327                                                Shift       7700.271973  \n",
       "441                                                Shift       7700.271973  \n",
       "...                                                  ...               ...  \n",
       "1264                                            හාර්ත හත       2880.132568  \n",
       "10122  අන්ජුටා, සුදුසු ප්ලගින සමූහයක් අතුරින් එකක් තෝ...       2872.951172  \n",
       "6268   අන්ජුටා, සුදුසු ප්ලගින සමූහයක් අතුරින් එකක් තෝ...       2872.951172  \n",
       "6923   අන්ජුටා, සුදුසු ප්ලගින සමූහයක් අතුරින් එකක් තෝ...       2872.951172  \n",
       "9469   අන්ජුටා, සුදුසු ප්ලගින සමූහයක් අතුරින් එකක් තෝ...       2872.951172  \n",
       "\n",
       "[13321 rows x 3 columns]"
      ]
     },
     "execution_count": 11,
     "metadata": {},
     "output_type": "execute_result"
    }
   ],
   "source": [
    "df_laser"
   ]
  }
 ],
 "metadata": {
  "kernelspec": {
   "display_name": "thesis",
   "language": "python",
   "name": "python3"
  },
  "language_info": {
   "codemirror_mode": {
    "name": "ipython",
    "version": 3
   },
   "file_extension": ".py",
   "mimetype": "text/x-python",
   "name": "python",
   "nbconvert_exporter": "python",
   "pygments_lexer": "ipython3",
   "version": "3.9.21"
  }
 },
 "nbformat": 4,
 "nbformat_minor": 5
}
