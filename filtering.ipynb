{
 "cells": [
  {
   "cell_type": "code",
   "execution_count": 1,
   "id": "2839e1dc",
   "metadata": {},
   "outputs": [
    {
     "name": "stderr",
     "output_type": "stream",
     "text": [
      "/home/tanmay/miniconda3/envs/thesis_wsl/lib/python3.9/site-packages/tqdm/auto.py:21: TqdmWarning: IProgress not found. Please update jupyter and ipywidgets. See https://ipywidgets.readthedocs.io/en/stable/user_install.html\n",
      "  from .autonotebook import tqdm as notebook_tqdm\n"
     ]
    }
   ],
   "source": [
    "#Find the threshold for the percentile\n",
    "import filtering  \n",
    "df = filtering.moses_to_df(\"data/en-si/GNOME.en-si.en\", \"data/en-si/GNOME.en-si.si\", \"english\", \"sinhala\")\n",
    "e1 = filtering.to_multilingual_embedding(\"english\", df[\"english\"], \"labse\")\n",
    "e2 = filtering.to_multilingual_embedding(\"sinhala\", df[\"sinhala\"], \"labse\")\n",
    "ss = filtering.find_similarity_score(e1, e2)"
   ]
  },
  {
   "cell_type": "code",
   "execution_count": 2,
   "id": "8e294675",
   "metadata": {},
   "outputs": [
    {
     "data": {
      "text/plain": [
       "(2510, 2)"
      ]
     },
     "execution_count": 2,
     "metadata": {},
     "output_type": "execute_result"
    }
   ],
   "source": [
    "df.shape"
   ]
  },
  {
   "cell_type": "code",
   "execution_count": 11,
   "id": "35972911",
   "metadata": {},
   "outputs": [
    {
     "data": {
      "text/plain": [
       "(array([ 1.,  2.,  0.,  1.,  2.,  2.,  0.,  1.,  1.,  3.,  1.,  2.,  0.,\n",
       "         2.,  2.,  4.,  4.,  5.,  1.,  2.,  4.,  3.,  4.,  2.,  4.,  6.,\n",
       "         4., 11.,  2.,  0.,  2.,  4.,  3.,  2.,  6., 11.,  2.,  2.,  7.,\n",
       "         7.,  4.,  4.,  7.,  7.,  3.,  4.,  5.,  3.,  2.,  4.,  5.,  8.,\n",
       "         3.,  4.,  4.,  6.,  6.,  4.,  2.,  8.,  7.,  7.,  7.,  5.,  4.,\n",
       "         5.,  1.,  4.,  5.,  7.,  4.,  4.,  6.,  5., 11.,  9.,  6., 11.,\n",
       "         9.,  8.,  6.,  7., 11., 12., 12.,  8.,  8., 13., 12., 13., 10.,\n",
       "        12.,  9., 11.,  9.,  4., 15., 23., 11., 15., 10., 17., 18., 20.,\n",
       "        11., 18., 19., 21., 20., 19., 14., 17., 20., 25., 32., 18., 16.,\n",
       "        37., 25., 20., 26., 19., 19., 35., 26., 29., 19., 25., 45., 22.,\n",
       "        38., 27., 46., 28., 29., 35., 35., 31., 22., 40., 48., 37., 34.,\n",
       "        44., 36., 24., 36., 39., 39., 24., 30., 31., 29., 26., 22., 34.,\n",
       "        31., 28., 16., 18., 13., 15., 15., 14., 20., 13., 14., 17.,  9.,\n",
       "        10., 10.,  9., 21.,  7.,  7., 15.,  7., 13., 11., 10.,  7.,  7.,\n",
       "         8.,  8.,  6.,  6.,  7.,  4.,  4.,  3.,  1.,  3.,  5.,  2.,  1.,\n",
       "         1.,  0.,  1.,  4.,  2.]),\n",
       " array([-0.01884746, -0.01718219, -0.01551692, -0.01385165, -0.01218638,\n",
       "        -0.01052111, -0.00885584, -0.00719056, -0.00552529, -0.00386002,\n",
       "        -0.00219475, -0.00052948,  0.00113579,  0.00280106,  0.00446634,\n",
       "         0.00613161,  0.00779688,  0.00946215,  0.01112742,  0.01279269,\n",
       "         0.01445796,  0.01612324,  0.01778851,  0.01945378,  0.02111905,\n",
       "         0.02278432,  0.02444959,  0.02611486,  0.02778014,  0.02944541,\n",
       "         0.03111068,  0.03277595,  0.03444122,  0.03610649,  0.03777176,\n",
       "         0.03943704,  0.04110231,  0.04276758,  0.04443285,  0.04609812,\n",
       "         0.04776339,  0.04942866,  0.05109394,  0.05275921,  0.05442448,\n",
       "         0.05608975,  0.05775502,  0.05942029,  0.06108556,  0.06275084,\n",
       "         0.06441611,  0.06608138,  0.06774665,  0.06941192,  0.07107719,\n",
       "         0.07274247,  0.07440774,  0.07607301,  0.07773828,  0.07940355,\n",
       "         0.08106882,  0.08273409,  0.08439937,  0.08606464,  0.08772991,\n",
       "         0.08939518,  0.09106045,  0.09272572,  0.09439099,  0.09605627,\n",
       "         0.09772154,  0.09938681,  0.10105208,  0.10271735,  0.10438262,\n",
       "         0.10604789,  0.10771317,  0.10937844,  0.11104371,  0.11270898,\n",
       "         0.11437425,  0.11603952,  0.11770479,  0.11937007,  0.12103534,\n",
       "         0.12270061,  0.12436588,  0.12603115,  0.12769642,  0.12936169,\n",
       "         0.13102697,  0.13269224,  0.13435751,  0.13602278,  0.13768805,\n",
       "         0.13935332,  0.14101859,  0.14268387,  0.14434914,  0.14601441,\n",
       "         0.14767968,  0.14934495,  0.15101022,  0.15267549,  0.15434077,\n",
       "         0.15600604,  0.15767131,  0.15933658,  0.16100185,  0.16266712,\n",
       "         0.1643324 ,  0.16599767,  0.16766294,  0.16932821,  0.17099348,\n",
       "         0.17265875,  0.17432402,  0.1759893 ,  0.17765457,  0.17931984,\n",
       "         0.18098511,  0.18265038,  0.18431565,  0.18598092,  0.1876462 ,\n",
       "         0.18931147,  0.19097674,  0.19264201,  0.19430728,  0.19597255,\n",
       "         0.19763782,  0.1993031 ,  0.20096837,  0.20263364,  0.20429891,\n",
       "         0.20596418,  0.20762945,  0.20929472,  0.21096   ,  0.21262527,\n",
       "         0.21429054,  0.21595581,  0.21762108,  0.21928635,  0.22095162,\n",
       "         0.2226169 ,  0.22428217,  0.22594744,  0.22761271,  0.22927798,\n",
       "         0.23094325,  0.23260852,  0.2342738 ,  0.23593907,  0.23760434,\n",
       "         0.23926961,  0.24093488,  0.24260015,  0.24426542,  0.2459307 ,\n",
       "         0.24759597,  0.24926124,  0.25092651,  0.25259178,  0.25425705,\n",
       "         0.25592233,  0.2575876 ,  0.25925287,  0.26091814,  0.26258341,\n",
       "         0.26424868,  0.26591395,  0.26757923,  0.2692445 ,  0.27090977,\n",
       "         0.27257504,  0.27424031,  0.27590558,  0.27757085,  0.27923613,\n",
       "         0.2809014 ,  0.28256667,  0.28423194,  0.28589721,  0.28756248,\n",
       "         0.28922775,  0.29089303,  0.2925583 ,  0.29422357,  0.29588884,\n",
       "         0.29755411,  0.29921938,  0.30088465,  0.30254993,  0.3042152 ,\n",
       "         0.30588047,  0.30754574,  0.30921101,  0.31087628,  0.31254155,\n",
       "         0.31420683]),\n",
       " <BarContainer object of 200 artists>)"
      ]
     },
     "execution_count": 11,
     "metadata": {},
     "output_type": "execute_result"
    },
    {
     "data": {
      "image/png": "[encoded data removed]",
      "text/plain": [
       "<Figure size 640x480 with 1 Axes>"
      ]
     },
     "metadata": {},
     "output_type": "display_data"
    }
   ],
   "source": [
    "import matplotlib.pyplot as plt\n",
    "plt.hist(ss, bins=200)"
   ]
  },
  {
   "cell_type": "code",
   "execution_count": 10,
   "id": "09082fd0",
   "metadata": {},
   "outputs": [
    {
     "name": "stdout",
     "output_type": "stream",
     "text": [
      "0.21305847612749487\n"
     ]
    }
   ],
   "source": [
    "print(max(set(ss), key=ss.count))"
   ]
  },
  {
   "cell_type": "code",
   "execution_count": null,
   "id": "1231d92d",
   "metadata": {},
   "outputs": [],
   "source": [
    "#Find threshold for the length preprocessing \n",
    "df_GNOME = filtering.moses_to_df(\"data/en-si/GNOME.en-si.en\", \"data/en-si/GNOME.en-si.si\", \"english\", \"sinhala\")\n",
    "df_Ubuntu = filtering.moses_to_df(\"data/en-si/Ubuntu.en-si.en\", \"data/en-si/Ubuntu.en-si.si\", \"english\", \"sinhala\")\n",
    "df_KDE4 = filtering.moses_to_df(\"data/en-si/KDE4.en-si.en\", \"data/en-si/KDE4.en-si.si\", \"english\", \"sinhala\")"
   ]
  },
  {
   "cell_type": "code",
   "execution_count": null,
   "id": "25091732",
   "metadata": {},
   "outputs": [],
   "source": [
    "def plot_length_ratios(df):\n",
    "    import numpy as np\n",
    "    ratios = []\n",
    "    for s1, s2 in zip(df[\"english\"], df[\"sinhala\"]):\n",
    "        ratios.append(float(len(s1)/len(s2)))\n",
    "    plt.hist(ratios, bins=50)\n",
    "    print(np.percentile(ratios, 95))"
   ]
  },
  {
   "cell_type": "code",
   "execution_count": null,
   "id": "51f803bd",
   "metadata": {},
   "outputs": [
    {
     "data": {
      "text/plain": [
       "0.968442560084747"
      ]
     },
     "execution_count": 5,
     "metadata": {},
     "output_type": "execute_result"
    }
   ],
   "source": [
    "filtering.LENGTH_RATIO"
   ]
  }
 ],
 "metadata": {
  "kernelspec": {
   "display_name": "thesis_wsl",
   "language": "python",
   "name": "python3"
  },
  "language_info": {
   "codemirror_mode": {
    "name": "ipython",
    "version": 3
   },
   "file_extension": ".py",
   "mimetype": "text/x-python",
   "name": "python",
   "nbconvert_exporter": "python",
   "pygments_lexer": "ipython3",
   "version": "3.9.21"
  }
 },
 "nbformat": 4,
 "nbformat_minor": 5
}
