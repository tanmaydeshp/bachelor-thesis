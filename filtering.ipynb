{
 "cells": [
  {
   "cell_type": "code",
   "execution_count": 1,
   "id": "0b3c4ce5",
   "metadata": {},
   "outputs": [],
   "source": [
    "import os\n",
    "os.environ[\"LD_LIBRARY_PATH\"] = os.environ[\"CONDA_PREFIX\"] + \"/lib:\" + os.environ.get(\"LD_LIBRARY_PATH\", \"\")"
   ]
  },
  {
   "cell_type": "code",
   "execution_count": 2,
   "id": "e8b5c0cc",
   "metadata": {},
   "outputs": [
    {
     "name": "stderr",
     "output_type": "stream",
     "text": [
      "/home/tanmay/miniconda3/envs/thesis_wsl/lib/python3.9/site-packages/tqdm/auto.py:21: TqdmWarning: IProgress not found. Please update jupyter and ipywidgets. See https://ipywidgets.readthedocs.io/en/stable/user_install.html\n",
      "  from .autonotebook import tqdm as notebook_tqdm\n"
     ]
    },
    {
     "name": "stdout",
     "output_type": "stream",
     "text": [
      "model path: /home/tanmay/.cache/huggingface/hub/models--cis-lmu--glotlid/snapshots/74cb50b709c9eefe0f790030c6c95c461b4e3b77/model.bin\n"
     ]
    }
   ],
   "source": [
    "# pip install fasttext\n",
    "# pip install huggingface_hub\n",
    "\n",
    "import fasttext\n",
    "from huggingface_hub import hf_hub_download\n",
    "\n",
    "# download model and get the model path\n",
    "# cache_dir is the path to the folder where the downloaded model will be stored/cached.\n",
    "model_path = hf_hub_download(repo_id=\"cis-lmu/glotlid\", filename=\"model.bin\", cache_dir=None)\n",
    "print(\"model path:\", model_path)\n",
    "\n",
    "# load the model\n",
    "model = fasttext.load_model(model_path)"
   ]
  },
  {
   "cell_type": "code",
   "execution_count": null,
   "id": "9a7f431b",
   "metadata": {},
   "outputs": [
    {
     "data": {
      "text/plain": [
       "(('__label__sin_Sinh',), array([1.00000179]))"
      ]
     },
     "execution_count": 6,
     "metadata": {},
     "output_type": "execute_result"
    }
   ],
   "source": [
    "model.predict(\"තරගයක් තෝරන්න\")\n",
    "#test"
   ]
  },
  {
   "cell_type": "code",
   "execution_count": 1,
   "id": "fb511b17",
   "metadata": {},
   "outputs": [],
   "source": [
    "#Convert Moses format files into a pandas DataFrame\n",
    "def moses_to_df(file1, file2, lang1, lang2):\n",
    "    lang1_lines = []\n",
    "    lang2_lines = []\n",
    "    with open(file1, \"r\", encoding=\"utf-8\") as f1:\n",
    "        for line in f1: \n",
    "            line = line.removesuffix(\"\\n\")\n",
    "            lang1_lines.append(line)\n",
    "    with open(file2, \"r\", encoding=\"utf-8\") as f2:\n",
    "        for line in f2: \n",
    "            line = line.removesuffix(\"\\n\")\n",
    "            lang2_lines.append(line)\n",
    "    import pandas as pd\n",
    "    df = pd.DataFrame({lang1: lang1_lines, lang2: lang2_lines})\n",
    "    df.drop_duplicates(inplace=True, ignore_index=True)\n",
    "    return df\n",
    "\n",
    "#Convert a list of sentences into their multilingual embeddings according to the given model\n",
    "def to_multilingual_embedding(language, sentences, model):\n",
    "    if model.lower() == \"labse\":\n",
    "        from sentence_transformers import SentenceTransformer\n",
    "        encoder = SentenceTransformer('sentence-transformers/LaBSE')\n",
    "        embedding = encoder.encode(sentences)\n",
    "    if model.lower() == \"laser\":\n",
    "        import torch \n",
    "        import argparse\n",
    "        torch.serialization.add_safe_globals([argparse.Namespace])\n",
    "        from laser_encoders import LaserEncoderPipeline\n",
    "        encoder = LaserEncoderPipeline(lang=language)\n",
    "        embedding = encoder.encode_sentences(sentences)\n",
    "    return embedding\n",
    "\n",
    "#Find similarity scores for sentence pairs using cosine similarity\n",
    "def find_similarity_score(embeddings1, embeddings2): \n",
    "    import statistics\n",
    "    from sklearn.metrics.pairwise import cosine_similarity\n",
    "    similarities = cosine_similarity(embeddings1, embeddings2)\n",
    "    similarity_scores = [statistics.fmean(vector) for vector in similarities]\n",
    "    # similarity_scores = [float(vector.sum()) for vector in similarities]\n",
    "    return similarity_scores\n",
    "\n",
    "#Given a pandas DataFrame, filter best x percent of sentence pairs and store the results in a .tsv file\n",
    "def filter_top_percentile(df, percentile, tsv_path): \n",
    "    df.sort_values(\"Similarity score\", ascending=False, inplace=True)\n",
    "    df[df['Similarity score'] >= df[\"Similarity score\"].quantile(percentile)].to_csv(sep=\"\\t\", path_or_buf=tsv_path)"
   ]
  },
  {
   "cell_type": "markdown",
   "id": "b2c3f19b",
   "metadata": {},
   "source": [
    "# Sinhala-English Filtering"
   ]
  },
  {
   "cell_type": "code",
   "execution_count": 2,
   "id": "c9d06696",
   "metadata": {},
   "outputs": [],
   "source": [
    "# import os\n",
    "# english_files=[]\n",
    "# sinhala_files = []\n",
    "# for filename in os.listdir(\"data/en-si\"):\n",
    "#     if filename.endswith(\".en\"):\n",
    "#         english_files.append(filename)\n",
    "#     if filename.endswith(\".si\"): \n",
    "#         sinhala_files.append(filename)\n",
    "# with open(\"data/en-si/sentences.en\", \"w\", encoding=\"utf-8\") as f:\n",
    "#     for file in english_files:\n",
    "#         for line in open(f\"data/en-si/{file}\", \"r\", encoding=\"utf-8\"):\n",
    "#             f.write(line)\n",
    "# with open(\"data/en-si/sentences.si\", \"w\", encoding=\"utf-8\") as f:\n",
    "#     for file in sinhala_files:\n",
    "#         for line in open(f\"data/en-si/{file}\", \"r\", encoding=\"utf-8\"):\n",
    "#             f.write(line)\n",
    " "
   ]
  },
  {
   "cell_type": "code",
   "execution_count": 20,
   "id": "37a26973",
   "metadata": {},
   "outputs": [],
   "source": [
    "df_labse = moses_to_df(\"data/en-si/GNOME.en-si.en\", \"data/en-si/GNOME.en-si.si\", \"English sentence\", \"Sinhala sentence\")\n",
    "en_embedding_labse = to_multilingual_embedding(\"english\", df_labse[\"English sentence\"], \"labse\")\n",
    "si_embedding_labse = to_multilingual_embedding(\"sinhala\", df_labse[\"Sinhala sentence\"], \"labse\")"
   ]
  },
  {
   "cell_type": "code",
   "execution_count": 21,
   "id": "78a9ba7f",
   "metadata": {},
   "outputs": [],
   "source": [
    "similiarity_scores = find_similarity_score(en_embedding_labse, si_embedding_labse)\n",
    "df_labse[\"Similarity score\"] = similiarity_scores"
   ]
  },
  {
   "cell_type": "code",
   "execution_count": 22,
   "id": "ec86b8de",
   "metadata": {},
   "outputs": [],
   "source": [
    "filter_top_percentile(df_labse, 0.9, \"outputs\\\\GNOME.en-si.top10_labse.tsv\")"
   ]
  },
  {
   "cell_type": "code",
   "execution_count": 23,
   "id": "378a2bd9",
   "metadata": {},
   "outputs": [
    {
     "data": {
      "text/html": [
       "<div>\n",
       "<style scoped>\n",
       "    .dataframe tbody tr th:only-of-type {\n",
       "        vertical-align: middle;\n",
       "    }\n",
       "\n",
       "    .dataframe tbody tr th {\n",
       "        vertical-align: top;\n",
       "    }\n",
       "\n",
       "    .dataframe thead th {\n",
       "        text-align: right;\n",
       "    }\n",
       "</style>\n",
       "<table border=\"1\" class=\"dataframe\">\n",
       "  <thead>\n",
       "    <tr style=\"text-align: right;\">\n",
       "      <th></th>\n",
       "      <th>English sentence</th>\n",
       "      <th>Sinhala sentence</th>\n",
       "      <th>Similarity score</th>\n",
       "    </tr>\n",
       "  </thead>\n",
       "  <tbody>\n",
       "    <tr>\n",
       "      <th>735</th>\n",
       "      <td>C_ut</td>\n",
       "      <td>කපන්න (_u)</td>\n",
       "      <td>0.314207</td>\n",
       "    </tr>\n",
       "    <tr>\n",
       "      <th>1826</th>\n",
       "      <td>New _Tab</td>\n",
       "      <td>නව ටැබය (_T)</td>\n",
       "      <td>0.312588</td>\n",
       "    </tr>\n",
       "    <tr>\n",
       "      <th>1788</th>\n",
       "      <td>New _Window</td>\n",
       "      <td>නව කවුළුව (_N)</td>\n",
       "      <td>0.312385</td>\n",
       "    </tr>\n",
       "    <tr>\n",
       "      <th>110</th>\n",
       "      <td>_Select</td>\n",
       "      <td>තරගයක් තෝරන්න</td>\n",
       "      <td>0.312249</td>\n",
       "    </tr>\n",
       "    <tr>\n",
       "      <th>429</th>\n",
       "      <td>_Select</td>\n",
       "      <td>තරගයක් තෝරන්නslot type</td>\n",
       "      <td>0.312249</td>\n",
       "    </tr>\n",
       "    <tr>\n",
       "      <th>...</th>\n",
       "      <td>...</td>\n",
       "      <td>...</td>\n",
       "      <td>...</td>\n",
       "    </tr>\n",
       "    <tr>\n",
       "      <th>375</th>\n",
       "      <td>Remove the king of clubs.</td>\n",
       "      <td>කලාබර කිංග්</td>\n",
       "      <td>-0.011855</td>\n",
       "    </tr>\n",
       "    <tr>\n",
       "      <th>359</th>\n",
       "      <td>Move ~a onto the queen of diamonds.</td>\n",
       "      <td>රුවිත ක්වීන්</td>\n",
       "      <td>-0.012506</td>\n",
       "    </tr>\n",
       "    <tr>\n",
       "      <th>348</th>\n",
       "      <td>Move ~a onto the ace of diamonds.</td>\n",
       "      <td>රුවිත ආසියා</td>\n",
       "      <td>-0.016199</td>\n",
       "    </tr>\n",
       "    <tr>\n",
       "      <th>320</th>\n",
       "      <td>Move ~a onto the king of clubs.</td>\n",
       "      <td>කලාබර කිංග්</td>\n",
       "      <td>-0.016575</td>\n",
       "    </tr>\n",
       "    <tr>\n",
       "      <th>319</th>\n",
       "      <td>Move ~a onto the queen of clubs.</td>\n",
       "      <td>කලාබර ක්වීන්</td>\n",
       "      <td>-0.018847</td>\n",
       "    </tr>\n",
       "  </tbody>\n",
       "</table>\n",
       "<p>2510 rows × 3 columns</p>\n",
       "</div>"
      ],
      "text/plain": [
       "                         English sentence        Sinhala sentence  \\\n",
       "735                                  C_ut              කපන්න (_u)   \n",
       "1826                             New _Tab            නව ටැබය (_T)   \n",
       "1788                          New _Window          නව කවුළුව (_N)   \n",
       "110                               _Select           තරගයක් තෝරන්න   \n",
       "429                               _Select  තරගයක් තෝරන්නslot type   \n",
       "...                                   ...                     ...   \n",
       "375             Remove the king of clubs.             කලාබර කිංග්   \n",
       "359   Move ~a onto the queen of diamonds.            රුවිත ක්වීන්   \n",
       "348     Move ~a onto the ace of diamonds.             රුවිත ආසියා   \n",
       "320       Move ~a onto the king of clubs.             කලාබර කිංග්   \n",
       "319      Move ~a onto the queen of clubs.            කලාබර ක්වීන්   \n",
       "\n",
       "      Similarity score  \n",
       "735           0.314207  \n",
       "1826          0.312588  \n",
       "1788          0.312385  \n",
       "110           0.312249  \n",
       "429           0.312249  \n",
       "...                ...  \n",
       "375          -0.011855  \n",
       "359          -0.012506  \n",
       "348          -0.016199  \n",
       "320          -0.016575  \n",
       "319          -0.018847  \n",
       "\n",
       "[2510 rows x 3 columns]"
      ]
     },
     "execution_count": 23,
     "metadata": {},
     "output_type": "execute_result"
    }
   ],
   "source": [
    "df_labse"
   ]
  },
  {
   "cell_type": "code",
   "execution_count": 24,
   "id": "1313e0fd",
   "metadata": {},
   "outputs": [
    {
     "name": "stdout",
     "output_type": "stream",
     "text": [
      "2025-05-01 10:28:06,334 | INFO | fairseq.tasks.text_to_speech | Please install tensorboardX: pip install tensorboardX\n",
      "2025-05-01 10:28:06,696 | INFO | laser_encoders.download_models |  - laser2.spm already downloaded\n",
      "2025-05-01 10:28:06,768 | INFO | laser_encoders.download_models |  - laser2.pt already downloaded\n",
      "2025-05-01 10:28:06,768 | INFO | laser_encoders.download_models |  - laser2.spm already downloaded\n",
      "2025-05-01 10:28:06,768 | INFO | laser_encoders.download_models |  - laser2.cvocab already downloaded\n",
      "2025-05-01 10:29:23,214 | INFO | laser_encoders.download_models |  - laser2.spm already downloaded\n",
      "2025-05-01 10:29:23,264 | INFO | laser_encoders.download_models |  - laser3-sin_Sinh.v1.pt already downloaded\n",
      "2025-05-01 10:29:23,265 | INFO | laser_encoders.download_models |  - laser2.spm already downloaded\n",
      "2025-05-01 10:29:23,266 | INFO | laser_encoders.download_models |  - laser2.cvocab already downloaded\n"
     ]
    },
    {
     "name": "stderr",
     "output_type": "stream",
     "text": [
      "c:\\Users\\admin\\anaconda3\\envs\\thesis\\lib\\site-packages\\fairseq\\models\\transformer\\transformer_encoder.py:281: UserWarning: The PyTorch API of nested tensors is in prototype stage and will change in the near future. We recommend specifying layout=torch.jagged when constructing a nested tensor, as this layout receives active development, has better operator coverage, and works with torch.compile. (Triggered internally at C:\\actions-runner\\_work\\pytorch\\pytorch\\pytorch\\aten\\src\\ATen\\NestedTensorImpl.cpp:182.)\n",
      "  x = torch._nested_tensor_from_mask(\n"
     ]
    }
   ],
   "source": [
    "df_laser = moses_to_df(\"data/en-si/GNOME.en-si.en\", \"data/en-si/GNOME.en-si.si\", \"English sentence\", \"Sinhala sentence\")\n",
    "en_embedding_laser = to_multilingual_embedding(\"english\", df_laser[\"English sentence\"], \"laser\")\n",
    "si_embedding_laser = to_multilingual_embedding(\"sinhala\", df_laser[\"Sinhala sentence\"], \"laser\")"
   ]
  },
  {
   "cell_type": "code",
   "execution_count": 25,
   "id": "effb4406",
   "metadata": {},
   "outputs": [],
   "source": [
    "similiarity_scores = find_similarity_score(en_embedding_laser, si_embedding_laser)\n",
    "df_laser[\"Similarity score\"] = similiarity_scores"
   ]
  },
  {
   "cell_type": "code",
   "execution_count": 26,
   "id": "9973c660",
   "metadata": {},
   "outputs": [],
   "source": [
    "filter_top_percentile(df_laser, 0.9, \"outputs\\\\GNOME.en-si.top10_laser.tsv\")"
   ]
  },
  {
   "cell_type": "code",
   "execution_count": 27,
   "id": "2a87e1b0",
   "metadata": {},
   "outputs": [
    {
     "data": {
      "text/html": [
       "<div>\n",
       "<style scoped>\n",
       "    .dataframe tbody tr th:only-of-type {\n",
       "        vertical-align: middle;\n",
       "    }\n",
       "\n",
       "    .dataframe tbody tr th {\n",
       "        vertical-align: top;\n",
       "    }\n",
       "\n",
       "    .dataframe thead th {\n",
       "        text-align: right;\n",
       "    }\n",
       "</style>\n",
       "<table border=\"1\" class=\"dataframe\">\n",
       "  <thead>\n",
       "    <tr style=\"text-align: right;\">\n",
       "      <th></th>\n",
       "      <th>English sentence</th>\n",
       "      <th>Sinhala sentence</th>\n",
       "      <th>Similarity score</th>\n",
       "    </tr>\n",
       "  </thead>\n",
       "  <tbody>\n",
       "    <tr>\n",
       "      <th>860</th>\n",
       "      <td>_Settings</td>\n",
       "      <td>සැකසුම් (_S)</td>\n",
       "      <td>0.562136</td>\n",
       "    </tr>\n",
       "    <tr>\n",
       "      <th>42</th>\n",
       "      <td>Shift</td>\n",
       "      <td>Shift</td>\n",
       "      <td>0.560907</td>\n",
       "    </tr>\n",
       "    <tr>\n",
       "      <th>1555</th>\n",
       "      <td>Device</td>\n",
       "      <td>මෙවලම්</td>\n",
       "      <td>0.560882</td>\n",
       "    </tr>\n",
       "    <tr>\n",
       "      <th>1637</th>\n",
       "      <td>Keyboard</td>\n",
       "      <td>යතුරු පුවරුව</td>\n",
       "      <td>0.560587</td>\n",
       "    </tr>\n",
       "    <tr>\n",
       "      <th>856</th>\n",
       "      <td>Paste</td>\n",
       "      <td>අලවන්න</td>\n",
       "      <td>0.560271</td>\n",
       "    </tr>\n",
       "    <tr>\n",
       "      <th>...</th>\n",
       "      <td>...</td>\n",
       "      <td>...</td>\n",
       "      <td>...</td>\n",
       "    </tr>\n",
       "    <tr>\n",
       "      <th>121</th>\n",
       "      <td>You should have received a copy of the GNU Gen...</td>\n",
       "      <td>slot type</td>\n",
       "      <td>0.239138</td>\n",
       "    </tr>\n",
       "    <tr>\n",
       "      <th>398</th>\n",
       "      <td>Remove the nine of hearts.</td>\n",
       "      <td>හාර්ත නවය</td>\n",
       "      <td>0.238071</td>\n",
       "    </tr>\n",
       "    <tr>\n",
       "      <th>1567</th>\n",
       "      <td>Please enter a name and try again.</td>\n",
       "      <td>කරුණාකර නම නැවත ඇතුලත් කර නැවත උත්සාහ කරන්න.</td>\n",
       "      <td>0.233735</td>\n",
       "    </tr>\n",
       "    <tr>\n",
       "      <th>1387</th>\n",
       "      <td>These are the plugins selected by you when you...</td>\n",
       "      <td>අන්ජුටා, සුදුසු ප්ලගින සමූහයක් අතුරින් එකක් තෝ...</td>\n",
       "      <td>0.228415</td>\n",
       "    </tr>\n",
       "    <tr>\n",
       "      <th>396</th>\n",
       "      <td>Remove the seven of hearts.</td>\n",
       "      <td>හාර්ත හත</td>\n",
       "      <td>0.220371</td>\n",
       "    </tr>\n",
       "  </tbody>\n",
       "</table>\n",
       "<p>2510 rows × 3 columns</p>\n",
       "</div>"
      ],
      "text/plain": [
       "                                       English sentence  \\\n",
       "860                                           _Settings   \n",
       "42                                                Shift   \n",
       "1555                                             Device   \n",
       "1637                                           Keyboard   \n",
       "856                                               Paste   \n",
       "...                                                 ...   \n",
       "121   You should have received a copy of the GNU Gen...   \n",
       "398                          Remove the nine of hearts.   \n",
       "1567                 Please enter a name and try again.   \n",
       "1387  These are the plugins selected by you when you...   \n",
       "396                         Remove the seven of hearts.   \n",
       "\n",
       "                                       Sinhala sentence  Similarity score  \n",
       "860                                        සැකසුම් (_S)          0.562136  \n",
       "42                                                Shift          0.560907  \n",
       "1555                                             මෙවලම්          0.560882  \n",
       "1637                                       යතුරු පුවරුව          0.560587  \n",
       "856                                              අලවන්න          0.560271  \n",
       "...                                                 ...               ...  \n",
       "121                                           slot type          0.239138  \n",
       "398                                           හාර්ත නවය          0.238071  \n",
       "1567       කරුණාකර නම නැවත ඇතුලත් කර නැවත උත්සාහ කරන්න.          0.233735  \n",
       "1387  අන්ජුටා, සුදුසු ප්ලගින සමූහයක් අතුරින් එකක් තෝ...          0.228415  \n",
       "396                                            හාර්ත හත          0.220371  \n",
       "\n",
       "[2510 rows x 3 columns]"
      ]
     },
     "execution_count": 27,
     "metadata": {},
     "output_type": "execute_result"
    }
   ],
   "source": [
    "df_laser"
   ]
  },
  {
   "cell_type": "code",
   "execution_count": 28,
   "id": "a4e13671",
   "metadata": {},
   "outputs": [
    {
     "name": "stdout",
     "output_type": "stream",
     "text": [
      "2025-05-01 10:32:29,529 | INFO | sentence_transformers.SentenceTransformer | Use pytorch device_name: cpu\n",
      "2025-05-01 10:32:29,530 | INFO | sentence_transformers.SentenceTransformer | Load pretrained SentenceTransformer: sentence-transformers/LaBSE\n"
     ]
    },
    {
     "name": "stderr",
     "output_type": "stream",
     "text": [
      "Batches: 100%|██████████| 791/791 [06:02<00:00,  2.18it/s]\n"
     ]
    },
    {
     "name": "stdout",
     "output_type": "stream",
     "text": [
      "2025-05-01 10:38:35,472 | INFO | sentence_transformers.SentenceTransformer | Use pytorch device_name: cpu\n",
      "2025-05-01 10:38:35,474 | INFO | sentence_transformers.SentenceTransformer | Load pretrained SentenceTransformer: sentence-transformers/LaBSE\n"
     ]
    },
    {
     "name": "stderr",
     "output_type": "stream",
     "text": [
      "Batches: 100%|██████████| 791/791 [08:07<00:00,  1.62it/s]\n"
     ]
    }
   ],
   "source": [
    "df_KDE4_labse = moses_to_df(\"data/en-si/KDE4.en-si.en\", \"data/en-si/KDE4.en-si.si\", \"English sentence\", \"Sinhala sentence\")\n",
    "en_embedding_labse = to_multilingual_embedding(\"english\", df_KDE4_labse[\"English sentence\"], \"labse\")\n",
    "si_embedding_labse = to_multilingual_embedding(\"sinhala\", df_KDE4_labse[\"Sinhala sentence\"], \"labse\")\n",
    "df_KDE4_labse[\"Similarity score\"] = find_similarity_score(en_embedding_labse, si_embedding_labse)\n",
    "filter_top_percentile(df_KDE4_labse, 0.9, \"outputs/KDE4.en-si.top10_labse.tsv\")"
   ]
  },
  {
   "cell_type": "code",
   "execution_count": 29,
   "id": "ad8056ff",
   "metadata": {},
   "outputs": [
    {
     "name": "stdout",
     "output_type": "stream",
     "text": [
      "2025-05-01 10:47:58,888 | INFO | laser_encoders.download_models |  - laser2.spm already downloaded\n",
      "2025-05-01 10:47:58,944 | INFO | laser_encoders.download_models |  - laser2.pt already downloaded\n",
      "2025-05-01 10:47:58,946 | INFO | laser_encoders.download_models |  - laser2.spm already downloaded\n",
      "2025-05-01 10:47:58,946 | INFO | laser_encoders.download_models |  - laser2.cvocab already downloaded\n",
      "2025-05-01 11:01:05,573 | INFO | laser_encoders.download_models |  - laser2.spm already downloaded\n",
      "2025-05-01 11:01:05,631 | INFO | laser_encoders.download_models |  - laser3-sin_Sinh.v1.pt already downloaded\n",
      "2025-05-01 11:01:05,632 | INFO | laser_encoders.download_models |  - laser2.spm already downloaded\n",
      "2025-05-01 11:01:05,633 | INFO | laser_encoders.download_models |  - laser2.cvocab already downloaded\n"
     ]
    }
   ],
   "source": [
    "df_KDE4_laser = moses_to_df(\"data/en-si/KDE4.en-si.en\", \"data/en-si/KDE4.en-si.si\", \"English sentence\", \"Sinhala sentence\")\n",
    "en_embedding_laser = to_multilingual_embedding(\"english\", df_KDE4_laser[\"English sentence\"], \"laser\")\n",
    "si_embedding_laser = to_multilingual_embedding(\"sinhala\", df_KDE4_laser[\"Sinhala sentence\"], \"laser\")\n",
    "df_KDE4_laser[\"Similarity score\"] = find_similarity_score(en_embedding_laser, si_embedding_laser)\n",
    "filter_top_percentile(df_KDE4_laser, 0.9, \"outputs/KDE4.en-si.top10_laser.tsv\")"
   ]
  }
 ],
 "metadata": {
  "kernelspec": {
   "display_name": "thesis_wsl",
   "language": "python",
   "name": "python3"
  },
  "language_info": {
   "codemirror_mode": {
    "name": "ipython",
    "version": 3
   },
   "file_extension": ".py",
   "mimetype": "text/x-python",
   "name": "python",
   "nbconvert_exporter": "python",
   "pygments_lexer": "ipython3",
   "version": "3.9.21"
  }
 },
 "nbformat": 4,
 "nbformat_minor": 5
}
