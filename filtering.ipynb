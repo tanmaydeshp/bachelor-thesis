{
 "cells": [
  {
   "cell_type": "code",
   "execution_count": 1,
   "id": "e5a38eec",
   "metadata": {},
   "outputs": [
    {
     "name": "stderr",
     "output_type": "stream",
     "text": [
      "/home/tanmay/miniconda3/envs/thesis_wsl/lib/python3.9/site-packages/tqdm/auto.py:21: TqdmWarning: IProgress not found. Please update jupyter and ipywidgets. See https://ipywidgets.readthedocs.io/en/stable/user_install.html\n",
      "  from .autonotebook import tqdm as notebook_tqdm\n"
     ]
    }
   ],
   "source": [
    "import fasttext\n",
    "from huggingface_hub import hf_hub_download\n",
    "model_path = hf_hub_download(repo_id=\"cis-lmu/glotlid\", filename=\"model.bin\", cache_dir=\"./models\")\n",
    "model = fasttext.load_model(model_path)"
   ]
  },
  {
   "cell_type": "code",
   "execution_count": 2,
   "id": "fb511b17",
   "metadata": {},
   "outputs": [],
   "source": [
    "#Return true if the sentence belongs to the specified language\n",
    "def check_language(sentence, language_code):\n",
    "    x = model.predict(sentence)\n",
    "    if x[0][0] == language_code and x[1][0] >= 0.5:\n",
    "        return True \n",
    "    else:\n",
    "        return False\n",
    " \n",
    "#Convert Moses format files into a pandas DataFrame\n",
    "def moses_to_df(file1, file2, lang1, lang2):\n",
    "    lang1_lines = []\n",
    "    lang2_lines = []\n",
    "    with open(file1, \"r\", encoding=\"utf-8\") as f1, open(file2, \"r\", encoding=\"utf-8\") as f2:\n",
    "        for line1, line2 in zip(f1, f2): \n",
    "            line1 = line1.removesuffix(\"\\n\")\n",
    "            line2= line2.removesuffix(\"\\n\")\n",
    "            if (check_language(line1, lang1) and check_language(line2, lang2)):\n",
    "                lang1_lines.append(line1)\n",
    "                lang2_lines.append(line2)\n",
    "    import pandas as pd\n",
    "    df = pd.DataFrame({lang1: lang1_lines, lang2: lang2_lines})\n",
    "    df.drop_duplicates(inplace=True, ignore_index=True)\n",
    "    return df\n",
    "\n",
    "#Convert a list of sentences into their multilingual embeddings according to the given model\n",
    "def to_multilingual_embedding(language, sentences, model):\n",
    "    if model.lower() == \"labse\":\n",
    "        from sentence_transformers import SentenceTransformer\n",
    "        encoder = SentenceTransformer('sentence-transformers/LaBSE')\n",
    "        embedding = encoder.encode(sentences)\n",
    "    if model.lower() == \"laser\":\n",
    "        import torch \n",
    "        import argparse\n",
    "        torch.serialization.add_safe_globals([argparse.Namespace])\n",
    "        from laser_encoders import LaserEncoderPipeline\n",
    "        encoder = LaserEncoderPipeline(lang=language)\n",
    "        embedding = encoder.encode_sentences(sentences)\n",
    "    return embedding\n",
    "\n",
    "#Find similarity scores for sentence pairs using cosine similarity\n",
    "def find_similarity_score(embeddings1, embeddings2): \n",
    "    import statistics\n",
    "    from sklearn.metrics.pairwise import cosine_similarity\n",
    "    similarities = cosine_similarity(embeddings1, embeddings2)\n",
    "    similarity_scores = [statistics.fmean(vector) for vector in similarities]\n",
    "    # similarity_scores = [float(vector.sum()) for vector in similarities]\n",
    "    return similarity_scores\n",
    "\n",
    "#Given a pandas DataFrame, filter best x percent of sentence pairs and store the results in a .tsv file\n",
    "def filter_top_percentile(df, percentile, tsv_path): \n",
    "    df.sort_values(\"Similarity score\", ascending=False, inplace=True)\n",
    "    df[df['Similarity score'] >= df[\"Similarity score\"].quantile(percentile)].to_csv(sep=\"\\t\", path_or_buf=tsv_path)"
   ]
  },
  {
   "cell_type": "markdown",
   "id": "b2c3f19b",
   "metadata": {},
   "source": [
    "# Sinhala-English Filtering"
   ]
  },
  {
   "cell_type": "code",
   "execution_count": 9,
   "id": "37a26973",
   "metadata": {},
   "outputs": [],
   "source": [
    "df_labse = moses_to_df(\"data/en-si/GNOME.en-si.en\", \"data/en-si/GNOME.en-si.si\", \"__label__eng_Latn\", \"__label__sin_Sinh\")\n",
    "en_embedding_labse = to_multilingual_embedding(\"english\", df_labse[\"__label__eng_Latn\"], \"labse\")\n",
    "si_embedding_labse = to_multilingual_embedding(\"sinhala\", df_labse[\"__label__sin_Sinh\"], \"labse\")"
   ]
  },
  {
   "cell_type": "code",
   "execution_count": 10,
   "id": "78a9ba7f",
   "metadata": {},
   "outputs": [],
   "source": [
    "similiarity_scores = find_similarity_score(en_embedding_labse, si_embedding_labse)\n",
    "df_labse[\"Similarity score\"] = similiarity_scores"
   ]
  },
  {
   "cell_type": "code",
   "execution_count": 11,
   "id": "ec86b8de",
   "metadata": {},
   "outputs": [],
   "source": [
    "filter_top_percentile(df_labse, 0.9, \"outputs/GNOME.en-si.top10_labse.tsv\")"
   ]
  },
  {
   "cell_type": "code",
   "execution_count": 12,
   "id": "378a2bd9",
   "metadata": {},
   "outputs": [
    {
     "data": {
      "text/html": [
       "<div>\n",
       "<style scoped>\n",
       "    .dataframe tbody tr th:only-of-type {\n",
       "        vertical-align: middle;\n",
       "    }\n",
       "\n",
       "    .dataframe tbody tr th {\n",
       "        vertical-align: top;\n",
       "    }\n",
       "\n",
       "    .dataframe thead th {\n",
       "        text-align: right;\n",
       "    }\n",
       "</style>\n",
       "<table border=\"1\" class=\"dataframe\">\n",
       "  <thead>\n",
       "    <tr style=\"text-align: right;\">\n",
       "      <th></th>\n",
       "      <th>__label__eng_Latn</th>\n",
       "      <th>__label__sin_Sinh</th>\n",
       "      <th>Similarity score</th>\n",
       "    </tr>\n",
       "  </thead>\n",
       "  <tbody>\n",
       "    <tr>\n",
       "      <th>470</th>\n",
       "      <td>Select file</td>\n",
       "      <td>සියල්ල තෝරන්න (_A)</td>\n",
       "      <td>0.289072</td>\n",
       "    </tr>\n",
       "    <tr>\n",
       "      <th>714</th>\n",
       "      <td>Select File</td>\n",
       "      <td>ගොනුව තෝරන්න</td>\n",
       "      <td>0.283206</td>\n",
       "    </tr>\n",
       "    <tr>\n",
       "      <th>416</th>\n",
       "      <td>Remove File</td>\n",
       "      <td>ඉවත් කරන්න</td>\n",
       "      <td>0.282978</td>\n",
       "    </tr>\n",
       "    <tr>\n",
       "      <th>1067</th>\n",
       "      <td>Example: username</td>\n",
       "      <td>උදාහරණය: පරිශීලක නාමය</td>\n",
       "      <td>0.278915</td>\n",
       "    </tr>\n",
       "    <tr>\n",
       "      <th>392</th>\n",
       "      <td>File not found</td>\n",
       "      <td>%s ආයිත්තම හමු නොවි</td>\n",
       "      <td>0.274207</td>\n",
       "    </tr>\n",
       "    <tr>\n",
       "      <th>...</th>\n",
       "      <td>...</td>\n",
       "      <td>...</td>\n",
       "      <td>...</td>\n",
       "    </tr>\n",
       "    <tr>\n",
       "      <th>151</th>\n",
       "      <td>Move ~a onto the queen of diamonds.</td>\n",
       "      <td>රුවිත ක්වීන්</td>\n",
       "      <td>-0.002639</td>\n",
       "    </tr>\n",
       "    <tr>\n",
       "      <th>152</th>\n",
       "      <td>Move ~a onto the king of diamonds.</td>\n",
       "      <td>රුවිත කිංග්</td>\n",
       "      <td>-0.003756</td>\n",
       "    </tr>\n",
       "    <tr>\n",
       "      <th>141</th>\n",
       "      <td>Move ~a onto the ace of diamonds.</td>\n",
       "      <td>රුවිත ආසියා</td>\n",
       "      <td>-0.006234</td>\n",
       "    </tr>\n",
       "    <tr>\n",
       "      <th>116</th>\n",
       "      <td>Move ~a onto the queen of clubs.</td>\n",
       "      <td>කලාබර ක්වීන්</td>\n",
       "      <td>-0.007917</td>\n",
       "    </tr>\n",
       "    <tr>\n",
       "      <th>117</th>\n",
       "      <td>Move ~a onto the king of clubs.</td>\n",
       "      <td>කලාබර කිංග්</td>\n",
       "      <td>-0.008286</td>\n",
       "    </tr>\n",
       "  </tbody>\n",
       "</table>\n",
       "<p>1099 rows × 3 columns</p>\n",
       "</div>"
      ],
      "text/plain": [
       "                        __label__eng_Latn      __label__sin_Sinh  \\\n",
       "470                           Select file     සියල්ල තෝරන්න (_A)   \n",
       "714                           Select File           ගොනුව තෝරන්න   \n",
       "416                           Remove File             ඉවත් කරන්න   \n",
       "1067                    Example: username  උදාහරණය: පරිශීලක නාමය   \n",
       "392                        File not found    %s ආයිත්තම හමු නොවි   \n",
       "...                                   ...                    ...   \n",
       "151   Move ~a onto the queen of diamonds.           රුවිත ක්වීන්   \n",
       "152    Move ~a onto the king of diamonds.            රුවිත කිංග්   \n",
       "141     Move ~a onto the ace of diamonds.            රුවිත ආසියා   \n",
       "116      Move ~a onto the queen of clubs.           කලාබර ක්වීන්   \n",
       "117       Move ~a onto the king of clubs.            කලාබර කිංග්   \n",
       "\n",
       "      Similarity score  \n",
       "470           0.289072  \n",
       "714           0.283206  \n",
       "416           0.282978  \n",
       "1067          0.278915  \n",
       "392           0.274207  \n",
       "...                ...  \n",
       "151          -0.002639  \n",
       "152          -0.003756  \n",
       "141          -0.006234  \n",
       "116          -0.007917  \n",
       "117          -0.008286  \n",
       "\n",
       "[1099 rows x 3 columns]"
      ]
     },
     "execution_count": 12,
     "metadata": {},
     "output_type": "execute_result"
    }
   ],
   "source": [
    "df_labse"
   ]
  },
  {
   "cell_type": "code",
   "execution_count": 3,
   "id": "1313e0fd",
   "metadata": {},
   "outputs": [
    {
     "name": "stdout",
     "output_type": "stream",
     "text": [
      "2025-05-02 10:11:52,493 | INFO | fairseq.tasks.text_to_speech | Please install tensorboardX: pip install tensorboardX\n",
      "2025-05-02 10:11:53,432 | INFO | laser_encoders.download_models |  - laser2.spm already downloaded\n",
      "2025-05-02 10:11:53,492 | INFO | laser_encoders.download_models |  - laser2.pt already downloaded\n",
      "2025-05-02 10:11:53,492 | INFO | laser_encoders.download_models |  - laser2.spm already downloaded\n",
      "2025-05-02 10:11:53,493 | INFO | laser_encoders.download_models |  - laser2.cvocab already downloaded\n",
      "2025-05-02 10:12:15,094 | INFO | laser_encoders.download_models |  - laser2.spm already downloaded\n",
      "2025-05-02 10:12:15,158 | INFO | laser_encoders.download_models |  - laser3-sin_Sinh.v1.pt already downloaded\n",
      "2025-05-02 10:12:15,159 | INFO | laser_encoders.download_models |  - laser2.spm already downloaded\n",
      "2025-05-02 10:12:15,160 | INFO | laser_encoders.download_models |  - laser2.cvocab already downloaded\n"
     ]
    },
    {
     "name": "stderr",
     "output_type": "stream",
     "text": [
      "/home/tanmay/miniconda3/envs/thesis_wsl/lib/python3.9/site-packages/fairseq/models/transformer/transformer_encoder.py:281: UserWarning: The PyTorch API of nested tensors is in prototype stage and will change in the near future. We recommend specifying layout=torch.jagged when constructing a nested tensor, as this layout receives active development, has better operator coverage, and works with torch.compile. (Triggered internally at /pytorch/aten/src/ATen/NestedTensorImpl.cpp:178.)\n",
      "  x = torch._nested_tensor_from_mask(\n"
     ]
    }
   ],
   "source": [
    "df_laser = moses_to_df(\"data/en-si/GNOME.en-si.en\", \"data/en-si/GNOME.en-si.si\", \"__label__eng_Latn\", \"__label__sin_Sinh\")\n",
    "en_embedding_laser = to_multilingual_embedding(\"english\", df_laser[\"__label__eng_Latn\"], \"laser\")\n",
    "si_embedding_laser = to_multilingual_embedding(\"sinhala\", df_laser[\"__label__sin_Sinh\"], \"laser\")"
   ]
  },
  {
   "cell_type": "code",
   "execution_count": 4,
   "id": "effb4406",
   "metadata": {},
   "outputs": [],
   "source": [
    "similiarity_scores = find_similarity_score(en_embedding_laser, si_embedding_laser)\n",
    "df_laser[\"Similarity score\"] = similiarity_scores"
   ]
  },
  {
   "cell_type": "code",
   "execution_count": 6,
   "id": "9973c660",
   "metadata": {},
   "outputs": [],
   "source": [
    "filter_top_percentile(df_laser, 0.9, \"outputs/GNOME.en-si.top10_laser.tsv\")"
   ]
  },
  {
   "cell_type": "code",
   "execution_count": 7,
   "id": "2a87e1b0",
   "metadata": {},
   "outputs": [
    {
     "data": {
      "text/html": [
       "<div>\n",
       "<style scoped>\n",
       "    .dataframe tbody tr th:only-of-type {\n",
       "        vertical-align: middle;\n",
       "    }\n",
       "\n",
       "    .dataframe tbody tr th {\n",
       "        vertical-align: top;\n",
       "    }\n",
       "\n",
       "    .dataframe thead th {\n",
       "        text-align: right;\n",
       "    }\n",
       "</style>\n",
       "<table border=\"1\" class=\"dataframe\">\n",
       "  <thead>\n",
       "    <tr style=\"text-align: right;\">\n",
       "      <th></th>\n",
       "      <th>__label__eng_Latn</th>\n",
       "      <th>__label__sin_Sinh</th>\n",
       "      <th>Similarity score</th>\n",
       "    </tr>\n",
       "  </thead>\n",
       "  <tbody>\n",
       "    <tr>\n",
       "      <th>704</th>\n",
       "      <td>Switch device</td>\n",
       "      <td>උපකරණය සිරුමාරුව</td>\n",
       "      <td>0.523275</td>\n",
       "    </tr>\n",
       "    <tr>\n",
       "      <th>711</th>\n",
       "      <td>Keyboard Type</td>\n",
       "      <td>යතුරු පුවරු වර්ගය</td>\n",
       "      <td>0.511623</td>\n",
       "    </tr>\n",
       "    <tr>\n",
       "      <th>582</th>\n",
       "      <td>Mailbox files</td>\n",
       "      <td>සියළු ගොනු</td>\n",
       "      <td>0.508577</td>\n",
       "    </tr>\n",
       "    <tr>\n",
       "      <th>450</th>\n",
       "      <td>Copy the selection</td>\n",
       "      <td>මේ තෝරාගැනීම මතක තබා ගන්න</td>\n",
       "      <td>0.507063</td>\n",
       "    </tr>\n",
       "    <tr>\n",
       "      <th>482</th>\n",
       "      <td>Highlight syntax</td>\n",
       "      <td>උද්දීපන ආකාරය (_H)</td>\n",
       "      <td>0.506887</td>\n",
       "    </tr>\n",
       "    <tr>\n",
       "      <th>...</th>\n",
       "      <td>...</td>\n",
       "      <td>...</td>\n",
       "      <td>...</td>\n",
       "    </tr>\n",
       "    <tr>\n",
       "      <th>677</th>\n",
       "      <td>Please enter a name and try again.</td>\n",
       "      <td>කරුණාකර නම නැවත ඇතුලත් කර නැවත උත්සාහ කරන්න.</td>\n",
       "      <td>0.269569</td>\n",
       "    </tr>\n",
       "    <tr>\n",
       "      <th>715</th>\n",
       "      <td>Please Wait...</td>\n",
       "      <td>කරුණාකර රැදී සිටින්න...</td>\n",
       "      <td>0.265065</td>\n",
       "    </tr>\n",
       "    <tr>\n",
       "      <th>728</th>\n",
       "      <td>Please Wait…</td>\n",
       "      <td>කරුණාකර රැදී සිටින්න...</td>\n",
       "      <td>0.265065</td>\n",
       "    </tr>\n",
       "    <tr>\n",
       "      <th>175</th>\n",
       "      <td>Remove the seven of hearts.</td>\n",
       "      <td>හාර්ත හත</td>\n",
       "      <td>0.259336</td>\n",
       "    </tr>\n",
       "    <tr>\n",
       "      <th>941</th>\n",
       "      <td>No, that's all for now</td>\n",
       "      <td>නැහැ, දැනට එපමනයි</td>\n",
       "      <td>0.229536</td>\n",
       "    </tr>\n",
       "  </tbody>\n",
       "</table>\n",
       "<p>1099 rows × 3 columns</p>\n",
       "</div>"
      ],
      "text/plain": [
       "                      __label__eng_Latn  \\\n",
       "704                       Switch device   \n",
       "711                       Keyboard Type   \n",
       "582                       Mailbox files   \n",
       "450                  Copy the selection   \n",
       "482                    Highlight syntax   \n",
       "..                                  ...   \n",
       "677  Please enter a name and try again.   \n",
       "715                      Please Wait...   \n",
       "728                        Please Wait…   \n",
       "175         Remove the seven of hearts.   \n",
       "941              No, that's all for now   \n",
       "\n",
       "                                __label__sin_Sinh  Similarity score  \n",
       "704                              උපකරණය සිරුමාරුව          0.523275  \n",
       "711                             යතුරු පුවරු වර්ගය          0.511623  \n",
       "582                                    සියළු ගොනු          0.508577  \n",
       "450                     මේ තෝරාගැනීම මතක තබා ගන්න          0.507063  \n",
       "482                            උද්දීපන ආකාරය (_H)          0.506887  \n",
       "..                                            ...               ...  \n",
       "677  කරුණාකර නම නැවත ඇතුලත් කර නැවත උත්සාහ කරන්න.          0.269569  \n",
       "715                       කරුණාකර රැදී සිටින්න...          0.265065  \n",
       "728                       කරුණාකර රැදී සිටින්න...          0.265065  \n",
       "175                                      හාර්ත හත          0.259336  \n",
       "941                             නැහැ, දැනට එපමනයි          0.229536  \n",
       "\n",
       "[1099 rows x 3 columns]"
      ]
     },
     "execution_count": 7,
     "metadata": {},
     "output_type": "execute_result"
    }
   ],
   "source": [
    "df_laser"
   ]
  },
  {
   "cell_type": "code",
   "execution_count": 21,
   "id": "a4e13671",
   "metadata": {},
   "outputs": [],
   "source": [
    "df_KDE4_labse = moses_to_df(\"data/en-si/KDE4.en-si.en\", \"data/en-si/KDE4.en-si.si\", \"__label__eng_Latn\", \"__label__sin_Sinh\")\n",
    "en_embedding_labse = to_multilingual_embedding(\"english\", df_KDE4_labse[\"__label__eng_Latn\"], \"labse\")\n",
    "si_embedding_labse = to_multilingual_embedding(\"sinhala\", df_KDE4_labse[\"__label__sin_Sinh\"], \"labse\")"
   ]
  },
  {
   "cell_type": "code",
   "execution_count": 22,
   "id": "f3e6bfce",
   "metadata": {},
   "outputs": [
    {
     "data": {
      "text/html": [
       "<div>\n",
       "<style scoped>\n",
       "    .dataframe tbody tr th:only-of-type {\n",
       "        vertical-align: middle;\n",
       "    }\n",
       "\n",
       "    .dataframe tbody tr th {\n",
       "        vertical-align: top;\n",
       "    }\n",
       "\n",
       "    .dataframe thead th {\n",
       "        text-align: right;\n",
       "    }\n",
       "</style>\n",
       "<table border=\"1\" class=\"dataframe\">\n",
       "  <thead>\n",
       "    <tr style=\"text-align: right;\">\n",
       "      <th></th>\n",
       "      <th>__label__eng_Latn</th>\n",
       "      <th>__label__sin_Sinh</th>\n",
       "    </tr>\n",
       "  </thead>\n",
       "  <tbody>\n",
       "    <tr>\n",
       "      <th>0</th>\n",
       "      <td>Unknown</td>\n",
       "      <td>නොදන්නා</td>\n",
       "    </tr>\n",
       "    <tr>\n",
       "      <th>1</th>\n",
       "      <td>Downloading remote playlist</td>\n",
       "      <td>වාදන ලැයිස්තුව සෙවුම</td>\n",
       "    </tr>\n",
       "    <tr>\n",
       "      <th>2</th>\n",
       "      <td>Podcasts on %1</td>\n",
       "      <td>පොඩ්කාස්ට්</td>\n",
       "    </tr>\n",
       "    <tr>\n",
       "      <th>3</th>\n",
       "      <td>&amp; Read Device</td>\n",
       "      <td>උපාංගය එක් කරන්න...</td>\n",
       "    </tr>\n",
       "    <tr>\n",
       "      <th>4</th>\n",
       "      <td>Could not save playlist.</td>\n",
       "      <td>වාදන ලැයිස්තුව සෙවුම</td>\n",
       "    </tr>\n",
       "    <tr>\n",
       "      <th>...</th>\n",
       "      <td>...</td>\n",
       "      <td>...</td>\n",
       "    </tr>\n",
       "    <tr>\n",
       "      <th>4884</th>\n",
       "      <td>Get help...</td>\n",
       "      <td>උදව් ගන්න...</td>\n",
       "    </tr>\n",
       "    <tr>\n",
       "      <th>4885</th>\n",
       "      <td>Do you really want to reset all toolbars of th...</td>\n",
       "      <td>ඔබට ඇත්ත වශයෙන්ම මෙම වැඩසටහනේ සියළු මෙවලම් තීර...</td>\n",
       "    </tr>\n",
       "    <tr>\n",
       "      <th>4886</th>\n",
       "      <td>Available actions:</td>\n",
       "      <td>තිබෙන ක්‍රීයා (v):</td>\n",
       "    </tr>\n",
       "    <tr>\n",
       "      <th>4887</th>\n",
       "      <td>Current actions:</td>\n",
       "      <td>පවත්නා ක්‍රියා (e):</td>\n",
       "    </tr>\n",
       "    <tr>\n",
       "      <th>4888</th>\n",
       "      <td>This element will be replaced with all the ele...</td>\n",
       "      <td>එබ්බූ සංරචකයක සියළු මූලාවයව සමඟ මෙම මූලවයවය ප්...</td>\n",
       "    </tr>\n",
       "  </tbody>\n",
       "</table>\n",
       "<p>4889 rows × 2 columns</p>\n",
       "</div>"
      ],
      "text/plain": [
       "                                      __label__eng_Latn  \\\n",
       "0                                               Unknown   \n",
       "1                           Downloading remote playlist   \n",
       "2                                        Podcasts on %1   \n",
       "3                                         & Read Device   \n",
       "4                              Could not save playlist.   \n",
       "...                                                 ...   \n",
       "4884                                        Get help...   \n",
       "4885  Do you really want to reset all toolbars of th...   \n",
       "4886                                 Available actions:   \n",
       "4887                                   Current actions:   \n",
       "4888  This element will be replaced with all the ele...   \n",
       "\n",
       "                                      __label__sin_Sinh  \n",
       "0                                               නොදන්නා  \n",
       "1                                  වාදන ලැයිස්තුව සෙවුම  \n",
       "2                                            පොඩ්කාස්ට්  \n",
       "3                                   උපාංගය එක් කරන්න...  \n",
       "4                                  වාදන ලැයිස්තුව සෙවුම  \n",
       "...                                                 ...  \n",
       "4884                                       උදව් ගන්න...  \n",
       "4885  ඔබට ඇත්ත වශයෙන්ම මෙම වැඩසටහනේ සියළු මෙවලම් තීර...  \n",
       "4886                                 තිබෙන ක්‍රීයා (v):  \n",
       "4887                                පවත්නා ක්‍රියා (e):  \n",
       "4888  එබ්බූ සංරචකයක සියළු මූලාවයව සමඟ මෙම මූලවයවය ප්...  \n",
       "\n",
       "[4889 rows x 2 columns]"
      ]
     },
     "execution_count": 22,
     "metadata": {},
     "output_type": "execute_result"
    }
   ],
   "source": [
    "df_KDE4_labse"
   ]
  },
  {
   "cell_type": "code",
   "execution_count": 24,
   "id": "8238a1a3",
   "metadata": {},
   "outputs": [],
   "source": [
    "similiarity_scores = find_similarity_score(en_embedding_labse, si_embedding_labse)\n",
    "df_KDE4_labse[\"Similarity score\"] = similiarity_scores\n",
    "filter_top_percentile(df_KDE4_labse, 0.9, \"outputs/KDE4.en-si.top10_labse.tsv\")"
   ]
  },
  {
   "cell_type": "code",
   "execution_count": 26,
   "id": "ad8056ff",
   "metadata": {},
   "outputs": [
    {
     "name": "stdout",
     "output_type": "stream",
     "text": [
      "2025-05-01 15:56:54,225 | INFO | laser_encoders.download_models |  - laser2.spm already downloaded\n",
      "2025-05-01 15:56:54,290 | INFO | laser_encoders.download_models |  - laser2.pt already downloaded\n",
      "2025-05-01 15:56:54,291 | INFO | laser_encoders.download_models |  - laser2.spm already downloaded\n",
      "2025-05-01 15:56:54,292 | INFO | laser_encoders.download_models |  - laser2.cvocab already downloaded\n",
      "2025-05-01 15:59:07,320 | INFO | laser_encoders.download_models |  - laser2.spm already downloaded\n",
      "2025-05-01 15:59:07,389 | INFO | laser_encoders.download_models |  - Downloading laser3-sin_Sinh.v1.pt\n"
     ]
    },
    {
     "name": "stderr",
     "output_type": "stream",
     "text": [
      "100%|██████████| 608M/608M [01:00<00:00, 10.0MB/s]   "
     ]
    },
    {
     "name": "stdout",
     "output_type": "stream",
     "text": [
      "2025-05-01 16:00:08,937 | INFO | laser_encoders.download_models |  - laser2.spm already downloaded\n",
      "2025-05-01 16:00:08,938 | INFO | laser_encoders.download_models |  - laser2.cvocab already downloaded\n"
     ]
    },
    {
     "name": "stderr",
     "output_type": "stream",
     "text": [
      "\n",
      "/home/tanmay/miniconda3/envs/thesis_wsl/lib/python3.9/site-packages/fairseq/models/transformer/transformer_encoder.py:281: UserWarning: The PyTorch API of nested tensors is in prototype stage and will change in the near future. We recommend specifying layout=torch.jagged when constructing a nested tensor, as this layout receives active development, has better operator coverage, and works with torch.compile. (Triggered internally at /pytorch/aten/src/ATen/NestedTensorImpl.cpp:178.)\n",
      "  x = torch._nested_tensor_from_mask(\n"
     ]
    }
   ],
   "source": [
    "df_KDE4_laser = moses_to_df(\"data/en-si/KDE4.en-si.en\", \"data/en-si/KDE4.en-si.si\", \"__label__eng_Latn\", \"__label__sin_Sinh\")\n",
    "en_embedding_laser = to_multilingual_embedding(\"english\", df_KDE4_laser[\"__label__eng_Latn\"], \"laser\")\n",
    "si_embedding_laser = to_multilingual_embedding(\"sinhala\", df_KDE4_laser[\"__label__sin_Sinh\"], \"laser\")\n",
    "df_KDE4_laser[\"Similarity score\"] = find_similarity_score(en_embedding_laser, si_embedding_laser)\n",
    "filter_top_percentile(df_KDE4_laser, 0.9, \"outputs/KDE4.en-si.top10_laser.tsv\")"
   ]
  },
  {
   "cell_type": "code",
   "execution_count": 8,
   "id": "ed9f71ee",
   "metadata": {},
   "outputs": [
    {
     "name": "stdout",
     "output_type": "stream",
     "text": [
      "2025-05-02 10:19:16,213 | INFO | sentence_transformers.SentenceTransformer | Use pytorch device_name: cpu\n",
      "2025-05-02 10:19:16,214 | INFO | sentence_transformers.SentenceTransformer | Load pretrained SentenceTransformer: sentence-transformers/LaBSE\n"
     ]
    },
    {
     "name": "stderr",
     "output_type": "stream",
     "text": [
      "Batches: 100%|██████████| 44/44 [00:16<00:00,  2.64it/s]"
     ]
    },
    {
     "name": "stdout",
     "output_type": "stream",
     "text": [
      "2025-05-02 10:19:35,721 | INFO | sentence_transformers.SentenceTransformer | Use pytorch device_name: cpu\n",
      "2025-05-02 10:19:35,722 | INFO | sentence_transformers.SentenceTransformer | Load pretrained SentenceTransformer: sentence-transformers/LaBSE\n"
     ]
    },
    {
     "name": "stderr",
     "output_type": "stream",
     "text": [
      "\n",
      "Batches: 100%|██████████| 44/44 [00:24<00:00,  1.76it/s]\n"
     ]
    }
   ],
   "source": [
    "df_Ubuntu_labse = moses_to_df(\"data/en-si/Ubuntu.en-si.en\", \"data/en-si/Ubuntu.en-si.si\", \"__label__eng_Latn\", \"__label__sin_Sinh\")\n",
    "en_embedding_laser = to_multilingual_embedding(\"english\", df_Ubuntu_labse[\"__label__eng_Latn\"], \"labse\")\n",
    "si_embedding_laser = to_multilingual_embedding(\"sinhala\", df_Ubuntu_labse[\"__label__sin_Sinh\"], \"labse\")\n",
    "df_Ubuntu_labse[\"Similarity score\"] = find_similarity_score(en_embedding_laser, si_embedding_laser)\n",
    "filter_top_percentile(df_Ubuntu_labse, 0.9, \"outputs/Ubuntu.en-si.top10_labse.tsv\")"
   ]
  },
  {
   "cell_type": "code",
   "execution_count": 9,
   "id": "e3cd2edf",
   "metadata": {},
   "outputs": [
    {
     "name": "stdout",
     "output_type": "stream",
     "text": [
      "2025-05-02 10:20:05,827 | INFO | laser_encoders.download_models |  - laser2.spm already downloaded\n",
      "2025-05-02 10:20:05,879 | INFO | laser_encoders.download_models |  - laser2.pt already downloaded\n",
      "2025-05-02 10:20:05,880 | INFO | laser_encoders.download_models |  - laser2.spm already downloaded\n",
      "2025-05-02 10:20:05,881 | INFO | laser_encoders.download_models |  - laser2.cvocab already downloaded\n",
      "2025-05-02 10:20:31,056 | INFO | laser_encoders.download_models |  - laser2.spm already downloaded\n",
      "2025-05-02 10:20:31,137 | INFO | laser_encoders.download_models |  - laser3-sin_Sinh.v1.pt already downloaded\n",
      "2025-05-02 10:20:31,139 | INFO | laser_encoders.download_models |  - laser2.spm already downloaded\n",
      "2025-05-02 10:20:31,140 | INFO | laser_encoders.download_models |  - laser2.cvocab already downloaded\n"
     ]
    }
   ],
   "source": [
    "df_Ubuntu_laser = moses_to_df(\"data/en-si/Ubuntu.en-si.en\", \"data/en-si/Ubuntu.en-si.si\", \"__label__eng_Latn\", \"__label__sin_Sinh\")\n",
    "en_embedding_laser = to_multilingual_embedding(\"english\", df_Ubuntu_laser[\"__label__eng_Latn\"], \"laser\")\n",
    "si_embedding_laser = to_multilingual_embedding(\"sinhala\", df_Ubuntu_laser[\"__label__sin_Sinh\"], \"laser\")\n",
    "df_Ubuntu_laser[\"Similarity score\"] = find_similarity_score(en_embedding_laser, si_embedding_laser)\n",
    "filter_top_percentile(df_Ubuntu_laser, 0.9, \"outputs/Ubuntu.en-si.top10_laser.tsv\")"
   ]
  }
 ],
 "metadata": {
  "kernelspec": {
   "display_name": "thesis_wsl",
   "language": "python",
   "name": "python3"
  },
  "language_info": {
   "codemirror_mode": {
    "name": "ipython",
    "version": 3
   },
   "file_extension": ".py",
   "mimetype": "text/x-python",
   "name": "python",
   "nbconvert_exporter": "python",
   "pygments_lexer": "ipython3",
   "version": "3.9.21"
  }
 },
 "nbformat": 4,
 "nbformat_minor": 5
}
